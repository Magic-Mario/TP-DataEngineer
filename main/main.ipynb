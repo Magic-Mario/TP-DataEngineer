{
 "cells": [
  {
   "cell_type": "code",
   "execution_count": 1,
   "metadata": {},
   "outputs": [],
   "source": [
    "import polars as pl\n",
    "import pandas as pd\n",
    "import numpy as np"
   ]
  },
  {
   "attachments": {},
   "cell_type": "markdown",
   "metadata": {},
   "source": [
    "Cargar los dataframes"
   ]
  },
  {
   "cell_type": "code",
   "execution_count": 2,
   "metadata": {},
   "outputs": [],
   "source": [
    "\n",
    "amazon_df = pd.read_csv('../Datasets/amazon_prime_titles-score.csv')\n",
    "disney_plus_df = pd.read_csv('../Datasets/disney_plus_titles-score.csv')\n",
    "netflix_title_df = pd.read_csv('../Datasets/netflix_titles-score.csv')\n",
    "hulu_df = pd.read_csv('../Datasets/hulu_titles-score (2).csv')"
   ]
  },
  {
   "attachments": {},
   "cell_type": "markdown",
   "metadata": {},
   "source": [
    "Los valores nulos del campo rating deberán reemplazarse por el string “**`G`**”"
   ]
  },
  {
   "cell_type": "code",
   "execution_count": 3,
   "metadata": {},
   "outputs": [],
   "source": [
    "# Aplicado para Amazon\n",
    "amazon_df['rating'].fillna(value='G', inplace=True)\n",
    "\n",
    "# Aplicado para Diney Plus\n",
    "disney_plus_df['rating'].fillna(value='G', inplace=True)\n",
    "\n",
    "# Aplicado para Netflix\n",
    "netflix_title_df['rating'].fillna(value='G', inplace=True)\n",
    "\n",
    "# Aplicado para Hulu\n",
    "hulu_df['rating'].fillna(value='G', inplace=True)"
   ]
  },
  {
   "attachments": {},
   "cell_type": "markdown",
   "metadata": {},
   "source": [
    "Crear columna *id* y ponerla en su lugar"
   ]
  },
  {
   "cell_type": "code",
   "execution_count": 16,
   "metadata": {},
   "outputs": [],
   "source": [
    "def generate_id(df):\n",
    "    plataform_name = df['title']\n",
    "    show_id = df['show_id']\n",
    "    return plataform_name[0] + str(show_id)\n",
    "\n",
    "def create_id_column(df):\n",
    "    df['id'] = df.apply(generate_id, axis=1)\n",
    "    pop_id = df.pop('id')\n",
    "    df.insert(0, 'id', pop_id)\n",
    "\n",
    "\n",
    "create_id_column(amazon_df)\n",
    "create_id_column(disney_plus_df)\n",
    "create_id_column(hulu_df)\n",
    "create_id_column(netflix_title_df)"
   ]
  },
  {
   "cell_type": "markdown",
   "metadata": {},
   "source": []
  }
 ],
 "metadata": {
  "kernelspec": {
   "display_name": "config",
   "language": "python",
   "name": "python3"
  },
  "language_info": {
   "codemirror_mode": {
    "name": "ipython",
    "version": 3
   },
   "file_extension": ".py",
   "mimetype": "text/x-python",
   "name": "python",
   "nbconvert_exporter": "python",
   "pygments_lexer": "ipython3",
   "version": "3.10.6"
  },
  "orig_nbformat": 4,
  "vscode": {
   "interpreter": {
    "hash": "b77a78e33407582addf588113a1b6c2220ec2d5db4bbbe5143e241103e6be1ee"
   }
  }
 },
 "nbformat": 4,
 "nbformat_minor": 2
}
